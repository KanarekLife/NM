{
 "cells": [
  {
   "cell_type": "code",
   "execution_count": 1,
   "metadata": {},
   "outputs": [
    {
     "data": {
      "text/latex": [
       "$\\displaystyle n = 944$"
      ],
      "text/plain": [
       "<IPython.core.display.Math object>"
      ]
     },
     "metadata": {},
     "output_type": "display_data"
    },
    {
     "data": {
      "text/latex": [
       "$\\displaystyle a_1 = 5$"
      ],
      "text/plain": [
       "<IPython.core.display.Math object>"
      ]
     },
     "metadata": {},
     "output_type": "display_data"
    },
    {
     "data": {
      "text/latex": [
       "$\\displaystyle a_2 = a_3 = -1$"
      ],
      "text/plain": [
       "<IPython.core.display.Math object>"
      ]
     },
     "metadata": {},
     "output_type": "display_data"
    },
    {
     "data": {
      "text/latex": [
       "$\\displaystyle A = \\begin{bmatrix}\n",
       "5 & -1 & -1 & 0 & 0 & 0 & 0 & 0 & 0 & 0 & ... & 0 & 0 & 0 & 0 & 0 & 0 & 0 & 0 & 0 \\\\ \n",
       "-1 & 5 & -1 & -1 & 0 & 0 & 0 & 0 & 0 & 0 & ... & 0 & 0 & 0 & 0 & 0 & 0 & 0 & 0 & 0 \\\\ \n",
       "-1 & -1 & 5 & -1 & -1 & 0 & 0 & 0 & 0 & 0 & ... & 0 & 0 & 0 & 0 & 0 & 0 & 0 & 0 & 0 \\\\ \n",
       "0 & -1 & -1 & 5 & -1 & -1 & 0 & 0 & 0 & 0 & ... & 0 & 0 & 0 & 0 & 0 & 0 & 0 & 0 & 0 \\\\ \n",
       "0 & 0 & -1 & -1 & 5 & -1 & -1 & 0 & 0 & 0 & ... & 0 & 0 & 0 & 0 & 0 & 0 & 0 & 0 & 0 \\\\ \n",
       "0 & 0 & 0 & -1 & -1 & 5 & -1 & -1 & 0 & 0 & ... & 0 & 0 & 0 & 0 & 0 & 0 & 0 & 0 & 0 \\\\ \n",
       "0 & 0 & 0 & 0 & -1 & -1 & 5 & -1 & -1 & 0 & ... & 0 & 0 & 0 & 0 & 0 & 0 & 0 & 0 & 0 \\\\ \n",
       "0 & 0 & 0 & 0 & 0 & -1 & -1 & 5 & -1 & -1 & ... & 0 & 0 & 0 & 0 & 0 & 0 & 0 & 0 & 0 \\\\ \n",
       "0 & 0 & 0 & 0 & 0 & 0 & -1 & -1 & 5 & -1 & ... & 0 & 0 & 0 & 0 & 0 & 0 & 0 & 0 & 0 \\\\ \n",
       "0 & 0 & 0 & 0 & 0 & 0 & 0 & -1 & -1 & 5 & ... & 0 & 0 & 0 & 0 & 0 & 0 & 0 & 0 & 0 \\\\ \n",
       "... & ... & ... & ... & ... & ... & ... & ... & ... & ... & ... & ... & ... & ... & ... & ... & ... & ... & ... & ... \\\\ \n",
       "0 & 0 & 0 & 0 & 0 & 0 & 0 & 0 & 0 & 0 & ... & 5 & -1 & -1 & 0 & 0 & 0 & 0 & 0 & 0 \\\\ \n",
       "0 & 0 & 0 & 0 & 0 & 0 & 0 & 0 & 0 & 0 & ... & -1 & 5 & -1 & -1 & 0 & 0 & 0 & 0 & 0 \\\\ \n",
       "0 & 0 & 0 & 0 & 0 & 0 & 0 & 0 & 0 & 0 & ... & -1 & -1 & 5 & -1 & -1 & 0 & 0 & 0 & 0 \\\\ \n",
       "0 & 0 & 0 & 0 & 0 & 0 & 0 & 0 & 0 & 0 & ... & 0 & -1 & -1 & 5 & -1 & -1 & 0 & 0 & 0 \\\\ \n",
       "0 & 0 & 0 & 0 & 0 & 0 & 0 & 0 & 0 & 0 & ... & 0 & 0 & -1 & -1 & 5 & -1 & -1 & 0 & 0 \\\\ \n",
       "0 & 0 & 0 & 0 & 0 & 0 & 0 & 0 & 0 & 0 & ... & 0 & 0 & 0 & -1 & -1 & 5 & -1 & -1 & 0 \\\\ \n",
       "0 & 0 & 0 & 0 & 0 & 0 & 0 & 0 & 0 & 0 & ... & 0 & 0 & 0 & 0 & -1 & -1 & 5 & -1 & -1 \\\\ \n",
       "0 & 0 & 0 & 0 & 0 & 0 & 0 & 0 & 0 & 0 & ... & 0 & 0 & 0 & 0 & 0 & -1 & -1 & 5 & -1 \\\\ \n",
       "0 & 0 & 0 & 0 & 0 & 0 & 0 & 0 & 0 & 0 & ... & 0 & 0 & 0 & 0 & 0 & 0 & -1 & -1 & 5 \\\\ \n",
       "\\end{bmatrix}$"
      ],
      "text/plain": [
       "<IPython.core.display.Math object>"
      ]
     },
     "metadata": {},
     "output_type": "display_data"
    },
    {
     "data": {
      "text/latex": [
       "$\\displaystyle B = \\begin{bmatrix}\n",
       "-0.7568024953079282 \\\\ \n",
       "0.9893582466233818 \\\\ \n",
       "-0.5365729180004349 \\\\ \n",
       "-0.2879033166650653 \\\\ \n",
       "0.9129452507276277 \\\\ \n",
       "-0.9055783620066238 \\\\ \n",
       "0.27090578830786904 \\\\ \n",
       "0.5514266812416906 \\\\ \n",
       "-0.9917788534431158 \\\\ \n",
       "0.7451131604793488 \\\\ \n",
       "... \\\\ \n",
       "0.9978192211198698 \\\\ \n",
       "-0.7021717310793989 \\\\ \n",
       "-0.07987907557825243 \\\\ \n",
       "0.806596627463813 \\\\ \n",
       "-0.9745744047253968 \\\\ \n",
       "0.46745205794760203 \\\\ \n",
       "0.36348029325136166 \\\\ \n",
       "-0.9426252079343771 \\\\ \n",
       "0.868801614811721 \\\\ \n",
       "\\end{bmatrix}$"
      ],
      "text/plain": [
       "<IPython.core.display.Math object>"
      ]
     },
     "metadata": {},
     "output_type": "display_data"
    }
   ],
   "source": [
    "from matrix import Matrix\n",
    "from matrix_algorithms import solve_jacobi, solve_gauss_seidel, solve_lu\n",
    "from helper import get_A, get_B\n",
    "from IPython.display import display, Math\n",
    "\n",
    "def display_math(s: str) -> None:\n",
    "    display(Math(s))\n",
    "\n",
    "index_number = 193044\n",
    "n = 900 + 10 * (index_number % 100 // 10) + (index_number % 10)\n",
    "a = get_A(n, 5 + index_number % 1000 // 100, -1, -1)\n",
    "display_math(f'n = {n}')\n",
    "display_math(f'a_1 = {5 + index_number % 1000 // 100}')\n",
    "display_math(f'a_2 = a_3 = -1')\n",
    "display_math('A = ' + a.to_latex())\n",
    "b = get_B(n, (index_number % 10000 // 1000) + 1)\n",
    "display_math('B = ' + b.to_latex())"
   ]
  },
  {
   "cell_type": "code",
   "execution_count": 2,
   "metadata": {},
   "outputs": [
    {
     "data": {
      "text/latex": [
       "$\\displaystyle \\text{Solved using Jacobi method in 67 iterations with error = 8.81e-10}$"
      ],
      "text/plain": [
       "<IPython.core.display.Math object>"
      ]
     },
     "metadata": {},
     "output_type": "display_data"
    },
    {
     "data": {
      "text/latex": [
       "$\\displaystyle Converges: True$"
      ],
      "text/plain": [
       "<IPython.core.display.Math object>"
      ]
     },
     "metadata": {},
     "output_type": "display_data"
    },
    {
     "data": {
      "text/latex": [
       "$\\displaystyle X = \\begin{bmatrix}\n",
       "-0.14082211525791982 \\\\ \n",
       "0.14223567807386117 \\\\ \n",
       "-0.0895437590859344 \\\\ \n",
       "-0.04781398195878478 \\\\ \n",
       "0.13525454164322445 \\\\ \n",
       "-0.13911305384925723 \\\\ \n",
       "0.0397982522752104 \\\\ \n",
       "0.08277428067746431 \\\\ \n",
       "-0.15083029554052263 \\\\ \n",
       "0.11258981911109067 \\\\ \n",
       "... \\\\ \n",
       "0.15155990336870181 \\\\ \n",
       "-0.10590671388153523 \\\\ \n",
       "-0.01129236329999969 \\\\ \n",
       "0.12343114049382882 \\\\ \n",
       "-0.14566707078381916 \\\\ \n",
       "0.07342522308009801 \\\\ \n",
       "0.06067505063053305 \\\\ \n",
       "-0.138765062802252 \\\\ \n",
       "0.15090187047830947 \\\\ \n",
       "\\end{bmatrix}$"
      ],
      "text/plain": [
       "<IPython.core.display.Math object>"
      ]
     },
     "metadata": {},
     "output_type": "display_data"
    }
   ],
   "source": [
    "r, i, e, c = solve_jacobi(a, b)\n",
    "display_math(f'\\\\text{{Solved using Jacobi method in {i} iterations with error = {format(e[-1], \".2e\") :}}}')\n",
    "display_math(f'Converges: {c}')\n",
    "display_math('X = ' + r.to_latex())"
   ]
  },
  {
   "cell_type": "code",
   "execution_count": 3,
   "metadata": {},
   "outputs": [
    {
     "data": {
      "text/latex": [
       "$\\displaystyle \\text{Solved using Gauss-Seidel method in 39 iterations with error = 8.22e-10}$"
      ],
      "text/plain": [
       "<IPython.core.display.Math object>"
      ]
     },
     "metadata": {},
     "output_type": "display_data"
    },
    {
     "data": {
      "text/latex": [
       "$\\displaystyle Converges: True$"
      ],
      "text/plain": [
       "<IPython.core.display.Math object>"
      ]
     },
     "metadata": {},
     "output_type": "display_data"
    },
    {
     "data": {
      "text/latex": [
       "$\\displaystyle X = \\begin{bmatrix}\n",
       "-0.14082211528376992 \\\\ \n",
       "0.1422356780320426 \\\\ \n",
       "-0.08954375914715927 \\\\ \n",
       "-0.04781398203714905 \\\\ \n",
       "0.13525454154825808 \\\\ \n",
       "-0.13911305395919296 \\\\ \n",
       "0.039798252151871306 \\\\ \n",
       "0.08277428054259872 \\\\ \n",
       "-0.1508302956849491 \\\\ \n",
       "0.11258981895916687 \\\\ \n",
       "... \\\\ \n",
       "0.15155990344666223 \\\\ \n",
       "-0.10590671380128087 \\\\ \n",
       "-0.011292363219985835 \\\\ \n",
       "0.12343114057113268 \\\\ \n",
       "-0.14566707071161675 \\\\ \n",
       "0.07342522314505834 \\\\ \n",
       "0.06067505068609496 \\\\ \n",
       "-0.13876506275739262 \\\\ \n",
       "0.15090187050987172 \\\\ \n",
       "\\end{bmatrix}$"
      ],
      "text/plain": [
       "<IPython.core.display.Math object>"
      ]
     },
     "metadata": {},
     "output_type": "display_data"
    }
   ],
   "source": [
    "r, i, e, c = solve_gauss_seidel(a, b)\n",
    "display_math(f'\\\\text{{Solved using Gauss-Seidel method in {i} iterations with error = {format(e[-1], \".2e\") :}}}')\n",
    "display_math(f'Converges: {c}')\n",
    "display_math('X = ' + r.to_latex())"
   ]
  },
  {
   "cell_type": "code",
   "execution_count": 4,
   "metadata": {},
   "outputs": [
    {
     "data": {
      "text/latex": [
       "$\\displaystyle n = 944$"
      ],
      "text/plain": [
       "<IPython.core.display.Math object>"
      ]
     },
     "metadata": {},
     "output_type": "display_data"
    },
    {
     "data": {
      "text/latex": [
       "$\\displaystyle a_1 = 3$"
      ],
      "text/plain": [
       "<IPython.core.display.Math object>"
      ]
     },
     "metadata": {},
     "output_type": "display_data"
    },
    {
     "data": {
      "text/latex": [
       "$\\displaystyle a_2 = a_3 = -1$"
      ],
      "text/plain": [
       "<IPython.core.display.Math object>"
      ]
     },
     "metadata": {},
     "output_type": "display_data"
    },
    {
     "data": {
      "text/latex": [
       "$\\displaystyle A = \\begin{bmatrix}\n",
       "3 & -1 & -1 & 0 & 0 & 0 & 0 & 0 & 0 & 0 & ... & 0 & 0 & 0 & 0 & 0 & 0 & 0 & 0 & 0 \\\\ \n",
       "-1 & 3 & -1 & -1 & 0 & 0 & 0 & 0 & 0 & 0 & ... & 0 & 0 & 0 & 0 & 0 & 0 & 0 & 0 & 0 \\\\ \n",
       "-1 & -1 & 3 & -1 & -1 & 0 & 0 & 0 & 0 & 0 & ... & 0 & 0 & 0 & 0 & 0 & 0 & 0 & 0 & 0 \\\\ \n",
       "0 & -1 & -1 & 3 & -1 & -1 & 0 & 0 & 0 & 0 & ... & 0 & 0 & 0 & 0 & 0 & 0 & 0 & 0 & 0 \\\\ \n",
       "0 & 0 & -1 & -1 & 3 & -1 & -1 & 0 & 0 & 0 & ... & 0 & 0 & 0 & 0 & 0 & 0 & 0 & 0 & 0 \\\\ \n",
       "0 & 0 & 0 & -1 & -1 & 3 & -1 & -1 & 0 & 0 & ... & 0 & 0 & 0 & 0 & 0 & 0 & 0 & 0 & 0 \\\\ \n",
       "0 & 0 & 0 & 0 & -1 & -1 & 3 & -1 & -1 & 0 & ... & 0 & 0 & 0 & 0 & 0 & 0 & 0 & 0 & 0 \\\\ \n",
       "0 & 0 & 0 & 0 & 0 & -1 & -1 & 3 & -1 & -1 & ... & 0 & 0 & 0 & 0 & 0 & 0 & 0 & 0 & 0 \\\\ \n",
       "0 & 0 & 0 & 0 & 0 & 0 & -1 & -1 & 3 & -1 & ... & 0 & 0 & 0 & 0 & 0 & 0 & 0 & 0 & 0 \\\\ \n",
       "0 & 0 & 0 & 0 & 0 & 0 & 0 & -1 & -1 & 3 & ... & 0 & 0 & 0 & 0 & 0 & 0 & 0 & 0 & 0 \\\\ \n",
       "... & ... & ... & ... & ... & ... & ... & ... & ... & ... & ... & ... & ... & ... & ... & ... & ... & ... & ... & ... \\\\ \n",
       "0 & 0 & 0 & 0 & 0 & 0 & 0 & 0 & 0 & 0 & ... & 3 & -1 & -1 & 0 & 0 & 0 & 0 & 0 & 0 \\\\ \n",
       "0 & 0 & 0 & 0 & 0 & 0 & 0 & 0 & 0 & 0 & ... & -1 & 3 & -1 & -1 & 0 & 0 & 0 & 0 & 0 \\\\ \n",
       "0 & 0 & 0 & 0 & 0 & 0 & 0 & 0 & 0 & 0 & ... & -1 & -1 & 3 & -1 & -1 & 0 & 0 & 0 & 0 \\\\ \n",
       "0 & 0 & 0 & 0 & 0 & 0 & 0 & 0 & 0 & 0 & ... & 0 & -1 & -1 & 3 & -1 & -1 & 0 & 0 & 0 \\\\ \n",
       "0 & 0 & 0 & 0 & 0 & 0 & 0 & 0 & 0 & 0 & ... & 0 & 0 & -1 & -1 & 3 & -1 & -1 & 0 & 0 \\\\ \n",
       "0 & 0 & 0 & 0 & 0 & 0 & 0 & 0 & 0 & 0 & ... & 0 & 0 & 0 & -1 & -1 & 3 & -1 & -1 & 0 \\\\ \n",
       "0 & 0 & 0 & 0 & 0 & 0 & 0 & 0 & 0 & 0 & ... & 0 & 0 & 0 & 0 & -1 & -1 & 3 & -1 & -1 \\\\ \n",
       "0 & 0 & 0 & 0 & 0 & 0 & 0 & 0 & 0 & 0 & ... & 0 & 0 & 0 & 0 & 0 & -1 & -1 & 3 & -1 \\\\ \n",
       "0 & 0 & 0 & 0 & 0 & 0 & 0 & 0 & 0 & 0 & ... & 0 & 0 & 0 & 0 & 0 & 0 & -1 & -1 & 3 \\\\ \n",
       "\\end{bmatrix}$"
      ],
      "text/plain": [
       "<IPython.core.display.Math object>"
      ]
     },
     "metadata": {},
     "output_type": "display_data"
    },
    {
     "data": {
      "text/latex": [
       "$\\displaystyle B = \\begin{bmatrix}\n",
       "-0.7568024953079282 \\\\ \n",
       "0.9893582466233818 \\\\ \n",
       "-0.5365729180004349 \\\\ \n",
       "-0.2879033166650653 \\\\ \n",
       "0.9129452507276277 \\\\ \n",
       "-0.9055783620066238 \\\\ \n",
       "0.27090578830786904 \\\\ \n",
       "0.5514266812416906 \\\\ \n",
       "-0.9917788534431158 \\\\ \n",
       "0.7451131604793488 \\\\ \n",
       "... \\\\ \n",
       "0.9978192211198698 \\\\ \n",
       "-0.7021717310793989 \\\\ \n",
       "-0.07987907557825243 \\\\ \n",
       "0.806596627463813 \\\\ \n",
       "-0.9745744047253968 \\\\ \n",
       "0.46745205794760203 \\\\ \n",
       "0.36348029325136166 \\\\ \n",
       "-0.9426252079343771 \\\\ \n",
       "0.868801614811721 \\\\ \n",
       "\\end{bmatrix}$"
      ],
      "text/plain": [
       "<IPython.core.display.Math object>"
      ]
     },
     "metadata": {},
     "output_type": "display_data"
    }
   ],
   "source": [
    "a = get_A(n, 3, -1, -1)\n",
    "display_math(f'n = {n}')\n",
    "display_math(f'a_1 = 3')\n",
    "display_math(f'a_2 = a_3 = -1')\n",
    "display_math('A = ' + a.to_latex())\n",
    "b = get_B(n, (index_number % 10000 // 1000) + 1)\n",
    "display_math('B = ' + b.to_latex())"
   ]
  },
  {
   "cell_type": "code",
   "execution_count": 5,
   "metadata": {},
   "outputs": [
    {
     "data": {
      "text/latex": [
       "$\\displaystyle \\text{Solved using Jacobi method in 9 iterations with error = 1.81e-01}$"
      ],
      "text/plain": [
       "<IPython.core.display.Math object>"
      ]
     },
     "metadata": {},
     "output_type": "display_data"
    },
    {
     "data": {
      "text/latex": [
       "$\\displaystyle Converges: False$"
      ],
      "text/plain": [
       "<IPython.core.display.Math object>"
      ]
     },
     "metadata": {},
     "output_type": "display_data"
    },
    {
     "data": {
      "text/latex": [
       "$\\displaystyle X = \\begin{bmatrix}\n",
       "-0.2643669345382904 \\\\ \n",
       "0.14067939183050926 \\\\ \n",
       "-0.20522397645830948 \\\\ \n",
       "-0.13409859313291478 \\\\ \n",
       "0.13739435931241883 \\\\ \n",
       "-0.24567021538901979 \\\\ \n",
       "0.025157054970754628 \\\\ \n",
       "0.09824322810588167 \\\\ \n",
       "-0.23080532633413892 \\\\ \n",
       "0.15434121955020894 \\\\ \n",
       "... \\\\ \n",
       "0.22643818407829244 \\\\ \n",
       "-0.139996228059307 \\\\ \n",
       "0.004014093925820495 \\\\ \n",
       "0.20638028105326392 \\\\ \n",
       "-0.1740017288856645 \\\\ \n",
       "0.14868614620399395 \\\\ \n",
       "0.14076244066620192 \\\\ \n",
       "-0.15291781712343677 \\\\ \n",
       "0.2648438261827786 \\\\ \n",
       "\\end{bmatrix}$"
      ],
      "text/plain": [
       "<IPython.core.display.Math object>"
      ]
     },
     "metadata": {},
     "output_type": "display_data"
    }
   ],
   "source": [
    "r, i, e, c = solve_jacobi(a, b)\n",
    "display_math(f'\\\\text{{Solved using Jacobi method in {i} iterations with error = {format(e[-1], \".2e\") :}}}')\n",
    "display_math(f'Converges: {c}')\n",
    "display_math('X = ' + r.to_latex())"
   ]
  },
  {
   "cell_type": "code",
   "execution_count": 6,
   "metadata": {},
   "outputs": [
    {
     "data": {
      "text/latex": [
       "$\\displaystyle \\text{Solved using Gauss-Seidel method in 3 iterations with error = 2.82e-01}$"
      ],
      "text/plain": [
       "<IPython.core.display.Math object>"
      ]
     },
     "metadata": {},
     "output_type": "display_data"
    },
    {
     "data": {
      "text/latex": [
       "$\\displaystyle Converges: False$"
      ],
      "text/plain": [
       "<IPython.core.display.Math object>"
      ]
     },
     "metadata": {},
     "output_type": "display_data"
    },
    {
     "data": {
      "text/latex": [
       "$\\displaystyle X = \\begin{bmatrix}\n",
       "-0.24689523687571513 \\\\ \n",
       "0.16292509778309142 \\\\ \n",
       "-0.18704500519043915 \\\\ \n",
       "-0.12149055909853601 \\\\ \n",
       "0.13921663214080426 \\\\ \n",
       "-0.2530116572250543 \\\\ \n",
       "0.011334209916929303 \\\\ \n",
       "0.0744234776812524 \\\\ \n",
       "-0.25615538864635234 \\\\ \n",
       "0.12949659665428026 \\\\ \n",
       "... \\\\ \n",
       "0.2180313606149743 \\\\ \n",
       "-0.15491111901221433 \\\\ \n",
       "-0.015518031128618884 \\\\ \n",
       "0.1751976431233837 \\\\ \n",
       "-0.21351561250725998 \\\\ \n",
       "0.10392859301693086 \\\\ \n",
       "0.0942038047045908 \\\\ \n",
       "-0.190317218648546 \\\\ \n",
       "0.2392927426950046 \\\\ \n",
       "\\end{bmatrix}$"
      ],
      "text/plain": [
       "<IPython.core.display.Math object>"
      ]
     },
     "metadata": {},
     "output_type": "display_data"
    }
   ],
   "source": [
    "r, i, e, c = solve_gauss_seidel(a, b)\n",
    "display_math(f'\\\\text{{Solved using Gauss-Seidel method in {i} iterations with error = {format(e[-1], \".2e\") :}}}')\n",
    "display_math(f'Converges: {c}')\n",
    "display_math('X = ' + r.to_latex())"
   ]
  },
  {
   "cell_type": "code",
   "execution_count": 8,
   "metadata": {},
   "outputs": [
    {
     "data": {
      "text/latex": [
       "$\\displaystyle \\text{Solved using LU method with error = 2.26e-13}$"
      ],
      "text/plain": [
       "<IPython.core.display.Math object>"
      ]
     },
     "metadata": {},
     "output_type": "display_data"
    },
    {
     "data": {
      "text/latex": [
       "$\\displaystyle X = \\begin{bmatrix}\n",
       "-0.22914889594433197 \\\\ \n",
       "0.19622261177482192 \\\\ \n",
       "-0.12686680429988964 \\\\ \n",
       "-0.04467471105469445 \\\\ \n",
       "0.23357350032497054 \\\\ \n",
       "-0.1490501242989208 \\\\ \n",
       "0.10836688990078873 \\\\ \n",
       "0.16116230993879643 \\\\ \n",
       "-0.19149080457034912 \\\\ \n",
       "0.16423428754317995 \\\\ \n",
       "... \\\\ \n",
       "0.2577556691665831 \\\\ \n",
       "-0.1292278348399158 \\\\ \n",
       "-0.015865742085134107 \\\\ \n",
       "0.15413034259067437 \\\\ \n",
       "-0.2503763275944916 \\\\ \n",
       "0.05126430482775166 \\\\ \n",
       "0.03391651660863026 \\\\ \n",
       "-0.25132967506915865 \\\\ \n",
       "0.18871095441042796 \\\\ \n",
       "\\end{bmatrix}$"
      ],
      "text/plain": [
       "<IPython.core.display.Math object>"
      ]
     },
     "metadata": {},
     "output_type": "display_data"
    }
   ],
   "source": [
    "r, e = solve_lu(a, b)\n",
    "display_math(f'\\\\text{{Solved using LU method with error = {format(e, \".2e\") :}}}')\n",
    "display_math('X = ' + r.to_latex())"
   ]
  }
 ],
 "metadata": {
  "kernelspec": {
   "display_name": ".venv",
   "language": "python",
   "name": "python3"
  },
  "language_info": {
   "codemirror_mode": {
    "name": "ipython",
    "version": 3
   },
   "file_extension": ".py",
   "mimetype": "text/x-python",
   "name": "python",
   "nbconvert_exporter": "python",
   "pygments_lexer": "ipython3",
   "version": "3.12.1"
  }
 },
 "nbformat": 4,
 "nbformat_minor": 2
}
